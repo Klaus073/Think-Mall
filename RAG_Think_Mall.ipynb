{
 "cells": [
  {
   "cell_type": "code",
   "execution_count": null,
   "id": "9b3e2c47",
   "metadata": {},
   "outputs": [],
   "source": [
    "import pinecone      \n",
    "\n",
    "pinecone.init(      \n",
    "api_key='b60f4c43-ae6f-49c6-8cb7-57ea9eb2abed',      \n",
    "environment='gcp-starter'      \n",
    ")      \n",
    "index = pinecone.Index('thinkmall')"
   ]
  },
  {
   "cell_type": "code",
   "execution_count": 2,
   "id": "8a027584",
   "metadata": {},
   "outputs": [],
   "source": [
    "import pandas as pd\n",
    "import numpy as np\n"
   ]
  },
  {
   "cell_type": "code",
   "execution_count": null,
   "id": "025f877a",
   "metadata": {},
   "outputs": [],
   "source": [
    "\n",
    "sheet_name = '/data'\n",
    "\n",
    "df = pd.read_excel(excel_file_path, sheet_name=sheet_name)\n",
    "\n",
    "print(df)"
   ]
  }
 ],
 "metadata": {
  "kernelspec": {
   "display_name": "Python 3 (ipykernel)",
   "language": "python",
   "name": "python3"
  },
  "language_info": {
   "codemirror_mode": {
    "name": "ipython",
    "version": 3
   },
   "file_extension": ".py",
   "mimetype": "text/x-python",
   "name": "python",
   "nbconvert_exporter": "python",
   "pygments_lexer": "ipython3",
   "version": "3.11.5"
  }
 },
 "nbformat": 4,
 "nbformat_minor": 5
}
