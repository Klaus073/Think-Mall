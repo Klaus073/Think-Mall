{
 "cells": [
  {
   "cell_type": "code",
   "execution_count": 1,
   "id": "64a9d779",
   "metadata": {},
   "outputs": [
    {
     "name": "stderr",
     "output_type": "stream",
     "text": [
      "C:\\Users\\nauman.tasawar\\AppData\\Roaming\\Python\\Python311\\site-packages\\pinecone\\index.py:4: TqdmExperimentalWarning: Using `tqdm.autonotebook.tqdm` in notebook mode. Use `tqdm.tqdm` instead to force console mode (e.g. in jupyter console)\n",
      "  from tqdm.autonotebook import tqdm\n"
     ]
    }
   ],
   "source": [
    "from tqdm import tqdm\n",
    "import re\n",
    "import os\n",
    "import json\n",
    "from langchain.prompts import (\n",
    "    ChatPromptTemplate,\n",
    "    MessagesPlaceholder,\n",
    "    SystemMessagePromptTemplate,\n",
    "    HumanMessagePromptTemplate,\n",
    ")\n",
    "\n",
    "from langchain.agents import Tool\n",
    "from langchain.llms import OpenAI\n",
    "from langchain.chat_models import ChatOpenAI\n",
    "from langchain.embeddings import OpenAIEmbeddings\n",
    "from langchain.vectorstores.base import VectorStoreRetriever\n",
    "from langchain.chains import ConversationalRetrievalChain\n",
    "from langchain.chains import LLMChain\n",
    "from langchain.memory import ConversationBufferMemory\n",
    "\n",
    "from langchain.agents import initialize_agent\n",
    "from langchain.chains.conversation.memory import ConversationBufferWindowMemory\n",
    "from langchain.chains import ConversationalRetrievalChain\n",
    "import pinecone\n",
    "from langchain.vectorstores import Pinecone\n",
    "import os\n",
    "from langchain.chains import RetrievalQA"
   ]
  },
  {
   "cell_type": "code",
   "execution_count": 2,
   "id": "9f9c4951",
   "metadata": {},
   "outputs": [],
   "source": [
    "openai_api_key = os.environ[\"THINK_MALL_GPT_KEY\"]\n",
    "\n",
    "PINECONE_API_KEY = os.environ[\"PINE_API_KEY\"]\n",
    "\n",
    "PINECONE_API_ENV = os.environ[\"PINE_ENV\"]"
   ]
  },
  {
   "cell_type": "code",
   "execution_count": 3,
   "id": "b33f535d",
   "metadata": {},
   "outputs": [],
   "source": [
    "pinecone.init(\n",
    "            api_key= PINECONE_API_KEY, \n",
    "            environment= PINECONE_API_ENV\n",
    ")\n",
    "index_name = \"think-mall\"\n",
    "if index_name not in pinecone.list_indexes():\n",
    "    raise ValueError(\n",
    "        f\"No '{index_name}' index exists. You must create the index before \"\n",
    "        \"running this notebook. Please refer to the walkthrough at \"\n",
    "        \"'github.com/pinecone-io/examples'.\"  # TODO add full link\n",
    "    )"
   ]
  },
  {
   "cell_type": "code",
   "execution_count": 4,
   "id": "7a52b5c7",
   "metadata": {},
   "outputs": [
    {
     "name": "stderr",
     "output_type": "stream",
     "text": [
      "C:\\Users\\nauman.tasawar\\AppData\\Roaming\\Python\\Python311\\site-packages\\langchain\\embeddings\\openai.py:217: UserWarning: WARNING! model_name is not default parameter.\n",
      "                    model_name was transferred to model_kwargs.\n",
      "                    Please confirm that model_name is what you intended.\n",
      "  warnings.warn(\n"
     ]
    }
   ],
   "source": [
    "index = pinecone.Index(index_name)\n",
    "embeddings = OpenAIEmbeddings(model_name='gpt-3.5-turbo' , openai_api_key=openai_api_key)\n",
    "\n",
    "vectordb = Pinecone.from_existing_index(index_name , embeddings)\n",
    "llm = ChatOpenAI(model_name='gpt-3.5-turbo',openai_api_key=openai_api_key , temperature=0)\n"
   ]
  },
  {
   "cell_type": "code",
   "execution_count": 5,
   "id": "8b62e2ae",
   "metadata": {},
   "outputs": [],
   "source": [
    "retriever = RetrievalQA.from_chain_type(\n",
    "    llm=llm,\n",
    "    chain_type=\"stuff\",\n",
    "    retriever=vectordb.as_retriever(),\n",
    ")\n",
    "tool_desc = \"\"\"Use this tool to answer user questions about the shops in Ibne Batuta Mall. If the user ask about shops information of some shopping related things then use this tool to get\n",
    "the answer. This tool can also be used for follow up questions from the user.\"\"\"\n"
   ]
  },
  {
   "cell_type": "code",
   "execution_count": 6,
   "id": "13b2bde6",
   "metadata": {},
   "outputs": [],
   "source": [
    "tools = [Tool(\n",
    "    func=retriever.run,\n",
    "    description=tool_desc,\n",
    "    name='Ibne Batuta Mall'\n",
    ")]"
   ]
  },
  {
   "cell_type": "code",
   "execution_count": 22,
   "id": "c6f198cc",
   "metadata": {},
   "outputs": [],
   "source": [
    "# memory = ConversationBufferWindowMemory(\n",
    "#     memory_key=\"chat_history\",  # important to align with agent prompt (below)\n",
    "#     k=5,\n",
    "#     return_messages=True\n",
    "# )\n",
    "memory = ConversationBufferMemory(memory_key=\"chat_history\", return_messages= True)"
   ]
  },
  {
   "cell_type": "code",
   "execution_count": 23,
   "id": "768ea528",
   "metadata": {},
   "outputs": [],
   "source": [
    "conversational_agent = initialize_agent(\n",
    "    agent='chat-conversational-react-description', \n",
    "    tools=tools, \n",
    "    llm=llm,\n",
    "    verbose=True,\n",
    "    max_iterations=2,\n",
    "    early_stopping_method=\"generate\",\n",
    "    memory=memory,\n",
    ")"
   ]
  },
  {
   "cell_type": "code",
   "execution_count": 24,
   "id": "6c9e30cf",
   "metadata": {},
   "outputs": [],
   "source": [
    "sys_msg = \"\"\" **Role:**\n",
    "        - Embody the persona of \"THINK MALL,\" a friendly assistant dedicated to helping users discover shops in the mall.\n",
    "        - Engage users in lively conversations. Do not let the user know that you are reading any context. Maintain tone defined below.\n",
    "    ** Tone **\n",
    "        Generate responses in a warm, friendly, and helpful tone. \\\n",
    "        Expressing enthusiasm and interest in the user's input or topic. \\\n",
    "        Provide information or suggestions with a positive and engaging demeanor.\\\n",
    "      \n",
    "    \n",
    "    **Let's tackle this step by step:**\n",
    "\n",
    "        1. **Determine User Query:**\n",
    "        - Check if the user's query pertains to the context.\n",
    "        - If not, engage with the user accordingly.\n",
    "        - Do not mention that you are reading any context.\n",
    "\n",
    "        2. **Contextual Responses:**\n",
    "        - If the user's query aligns with the context, provide a relevant answer.\n",
    "        - Keep responses concise, limited to 20 words.\n",
    "\n",
    "        3. **Maintain Friendliness:**\n",
    "        - Ensure a friendly tone throughout the conversation.\n",
    "        \n",
    "        4. **No Self-Generated Content:**\n",
    "        - Strictly adhere to the provided context; avoid introducing unrelated information.\n",
    "\n",
    "        5. **Contextual Boundaries:**\n",
    "        - Only generate responses within the specified context.\n",
    "\n",
    "        6. **Handling Unknowns:**\n",
    "        - If uncertain, politely inform the user of your lack of knowledge.\n",
    "\n",
    "        7. **Avoid Extraneous Content:**\n",
    "        - Don't write code, essays, or information beyond the given context.\n",
    "\"\"\"\n"
   ]
  },
  {
   "cell_type": "code",
   "execution_count": 25,
   "id": "978dc481",
   "metadata": {},
   "outputs": [],
   "source": [
    "prompt = conversational_agent.agent.create_prompt(\n",
    "    system_message=sys_msg,\n",
    "    tools=tools\n",
    ")\n",
    "conversational_agent.agent.llm_chain.prompt = prompt\n"
   ]
  },
  {
   "cell_type": "code",
   "execution_count": 26,
   "id": "51ddbf1c",
   "metadata": {},
   "outputs": [
    {
     "name": "stdout",
     "output_type": "stream",
     "text": [
      "\n",
      "\n",
      "\u001b[1m> Entering new AgentExecutor chain...\u001b[0m\n",
      "\u001b[32;1m\u001b[1;3m{\n",
      "    \"action\": \"Ibne Batuta Mall\",\n",
      "    \"action_input\": \"gaming accessories\"\n",
      "}\u001b[0m\n",
      "Observation: \u001b[36;1m\u001b[1;3mZ Games, located in China Court, is a gaming specialist store that offers a wide range of gaming accessories. They aim to cater to gamers' needs in the Middle East and provide an extensive library of video games, accessories by leading brands, gaming consoles, and much more. You can contact them at 048348455.\u001b[0m\n",
      "Thought:\u001b[32;1m\u001b[1;3m{\n",
      "    \"action\": \"Final Answer\",\n",
      "    \"action_input\": \"Z Games, located in China Court, is a gaming specialist store that offers a wide range of gaming accessories. They aim to cater to gamers' needs in the Middle East and provide an extensive library of video games, accessories by leading brands, gaming consoles, and much more. You can contact them at 048348455.\"\n",
      "}\u001b[0m\n",
      "\n",
      "\u001b[1m> Finished chain.\u001b[0m\n",
      "Z Games, located in China Court, is a gaming specialist store that offers a wide range of gaming accessories. They aim to cater to gamers' needs in the Middle East and provide an extensive library of video games, accessories by leading brands, gaming consoles, and much more. You can contact them at 048348455.\n"
     ]
    }
   ],
   "source": [
    "zz = conversational_agent(\"where can find the gaming accessoeires\")\n",
    "\n",
    "print(zz['output'])\n"
   ]
  },
  {
   "cell_type": "code",
   "execution_count": 27,
   "id": "4f0a2b01",
   "metadata": {},
   "outputs": [
    {
     "name": "stdout",
     "output_type": "stream",
     "text": [
      "\n",
      "\n",
      "\u001b[1m> Entering new AgentExecutor chain...\u001b[0m\n",
      "\u001b[32;1m\u001b[1;3m{\n",
      "    \"action\": \"Ibne Batuta Mall\",\n",
      "    \"action_input\": \"pizza\"\n",
      "}\u001b[0m\n",
      "Observation: \u001b[36;1m\u001b[1;3mI'm sorry, but I don't have any information about pizza in the given context.\u001b[0m\n",
      "Thought:\u001b[32;1m\u001b[1;3m{\n",
      "    \"action\": \"Final Answer\",\n",
      "    \"action_input\": \"I'm sorry, but I don't have any information about pizza or gaming consoles in the given context.\"\n",
      "}\u001b[0m\n",
      "\n",
      "\u001b[1m> Finished chain.\u001b[0m\n",
      "I'm sorry, but I don't have any information about pizza or gaming consoles in the given context.\n"
     ]
    }
   ],
   "source": [
    "zz =  conversational_agent(\"i want to eat pizza and then i wil buy gaming consoles\")\n",
    "print(zz['output'])"
   ]
  },
  {
   "cell_type": "code",
   "execution_count": 13,
   "id": "790e8b2a",
   "metadata": {},
   "outputs": [
    {
     "name": "stdout",
     "output_type": "stream",
     "text": [
      "\n",
      "\n",
      "\u001b[1m> Entering new AgentExecutor chain...\u001b[0m\n",
      "\u001b[32;1m\u001b[1;3m{\n",
      "    \"action\": \"Ibne Batuta Mall\",\n",
      "    \"action_input\": \"Z Games\"\n",
      "}\u001b[0m\n",
      "Observation: \u001b[36;1m\u001b[1;3mZ Games is a gaming specialist store located in China Court. They offer an extensive library of video games, accessories, gaming consoles, and more at competitive prices. They are open at 10:00 AM and can be reached at 048348455. They are similar to brands like ALA HAWAK, SAMSUNG, and VIRGIN MEGASTORE.\u001b[0m\n",
      "Thought:\u001b[32;1m\u001b[1;3m{\n",
      "    \"action\": \"Final Answer\",\n",
      "    \"action_input\": \"Z Games is a gaming specialist store located in China Court. They offer an extensive library of video games, accessories, gaming consoles, and more at competitive prices. They are open at 10:00 AM and can be reached at 048348455. They are similar to brands like ALA HAWAK, SAMSUNG, and VIRGIN MEGASTORE.\"\n",
      "}\u001b[0m\n",
      "\n",
      "\u001b[1m> Finished chain.\u001b[0m\n"
     ]
    },
    {
     "data": {
      "text/plain": [
       "{'input': 'how can i reach them',\n",
       " 'chat_history': [HumanMessage(content='where can find the gaming accessoeires'),\n",
       "  AIMessage(content=\"Z Games, located in China Court, is a gaming specialist store that offers a wide range of gaming accessories. They aim to cater to gamers' needs in the Middle East and provide an extensive library of video games, accessories by leading brands, gaming consoles, and much more. You can reach them at 048348455.\"),\n",
       "  HumanMessage(content='similar shops to that'),\n",
       "  AIMessage(content=\"Similar shops to Brands for Less in Andalusia Court include MY VAPERY, SMOKERS CENTRE, and THOMSUN PURE MUSIC. Similar shops to Athlete's Co in Egypt Court include SPORTS MARKET, COLUMBIA, and NIKE. Similar shops to The Custom Shop in India Court include KOTON, ARROW, and CELIO. Similar shops to Just Accessories in Egypt Court include ALDO ACCESSORIES and CLAIRE'S.\"),\n",
       "  HumanMessage(content='how can i reach them'),\n",
       "  AIMessage(content='Z Games is a gaming specialist store located in China Court. They offer an extensive library of video games, accessories, gaming consoles, and more at competitive prices. They are open at 10:00 AM and can be reached at 048348455. They are similar to brands like ALA HAWAK, SAMSUNG, and VIRGIN MEGASTORE.')],\n",
       " 'output': 'Z Games is a gaming specialist store located in China Court. They offer an extensive library of video games, accessories, gaming consoles, and more at competitive prices. They are open at 10:00 AM and can be reached at 048348455. They are similar to brands like ALA HAWAK, SAMSUNG, and VIRGIN MEGASTORE.'}"
      ]
     },
     "execution_count": 13,
     "metadata": {},
     "output_type": "execute_result"
    }
   ],
   "source": [
    "zz =  conversational_agent(\"how can i reach them\")\n",
    "print(zz['output'])"
   ]
  },
  {
   "cell_type": "code",
   "execution_count": 14,
   "id": "7a09f508",
   "metadata": {},
   "outputs": [
    {
     "data": {
      "text/plain": [
       "[HumanMessage(content='where can find the gaming accessoeires'),\n",
       " AIMessage(content=\"Z Games, located in China Court, is a gaming specialist store that offers a wide range of gaming accessories. They aim to cater to gamers' needs in the Middle East and provide an extensive library of video games, accessories by leading brands, gaming consoles, and much more. You can reach them at 048348455.\"),\n",
       " HumanMessage(content='similar shops to that'),\n",
       " AIMessage(content=\"Similar shops to Brands for Less in Andalusia Court include MY VAPERY, SMOKERS CENTRE, and THOMSUN PURE MUSIC. Similar shops to Athlete's Co in Egypt Court include SPORTS MARKET, COLUMBIA, and NIKE. Similar shops to The Custom Shop in India Court include KOTON, ARROW, and CELIO. Similar shops to Just Accessories in Egypt Court include ALDO ACCESSORIES and CLAIRE'S.\"),\n",
       " HumanMessage(content='how can i reach them'),\n",
       " AIMessage(content='Z Games is a gaming specialist store located in China Court. They offer an extensive library of video games, accessories, gaming consoles, and more at competitive prices. They are open at 10:00 AM and can be reached at 048348455. They are similar to brands like ALA HAWAK, SAMSUNG, and VIRGIN MEGASTORE.')]"
      ]
     },
     "execution_count": 14,
     "metadata": {},
     "output_type": "execute_result"
    }
   ],
   "source": []
  },
  {
   "cell_type": "code",
   "execution_count": 17,
   "id": "c481256c",
   "metadata": {},
   "outputs": [
    {
     "name": "stdout",
     "output_type": "stream",
     "text": [
      "{'input': 'similar shops to that', 'chat_history': [HumanMessage(content='where can find the gaming accessoeires'), AIMessage(content=\"Z Games, located in China Court, is a gaming specialist store that offers a wide range of gaming accessories. They aim to cater to gamers' needs in the Middle East and provide an extensive library of video games, accessories by leading brands, gaming consoles, and much more. You can reach them at 048348455.\"), HumanMessage(content='similar shops to that'), AIMessage(content=\"Similar shops to Brands for Less in Andalusia Court include MY VAPERY, SMOKERS CENTRE, and THOMSUN PURE MUSIC. Similar shops to Athlete's Co in Egypt Court include SPORTS MARKET, COLUMBIA, and NIKE. Similar shops to The Custom Shop in India Court include KOTON, ARROW, and CELIO. Similar shops to Just Accessories in Egypt Court include ALDO ACCESSORIES and CLAIRE'S.\")], 'output': \"Similar shops to Brands for Less in Andalusia Court include MY VAPERY, SMOKERS CENTRE, and THOMSUN PURE MUSIC. Similar shops to Athlete's Co in Egypt Court include SPORTS MARKET, COLUMBIA, and NIKE. Similar shops to The Custom Shop in India Court include KOTON, ARROW, and CELIO. Similar shops to Just Accessories in Egypt Court include ALDO ACCESSORIES and CLAIRE'S.\"}\n"
     ]
    }
   ],
   "source": [
    "print(zz)"
   ]
  },
  {
   "cell_type": "code",
   "execution_count": 18,
   "id": "9be510e1",
   "metadata": {},
   "outputs": [
    {
     "name": "stdout",
     "output_type": "stream",
     "text": [
      "\n",
      "\n",
      "\u001b[1m> Entering new AgentExecutor chain...\u001b[0m\n",
      "\u001b[32;1m\u001b[1;3m{\n",
      "    \"action\": \"Ibne Batuta Mall\",\n",
      "    \"action_input\": \"video games\"\n",
      "}\u001b[0m\n",
      "Observation: \u001b[36;1m\u001b[1;3mZGames, located in China Court, is a gaming specialist store that offers an extensive library of video games, accessories, gaming consoles, and more. They aim to cater to gamers' needs in the Middle East and provide competitive prices. They are open at 10:00 AM and can be reached at 048348455.\u001b[0m\n",
      "Thought:\u001b[32;1m\u001b[1;3m{\n",
      "    \"action\": \"Final Answer\",\n",
      "    \"action_input\": \"ZGames, located in China Court, is a gaming specialist store that offers an extensive library of video games, accessories, gaming consoles, and more. They aim to cater to gamers' needs in the Middle East and provide competitive prices. They are open at 10:00 AM and can be reached at 048348455.\"\n",
      "}\u001b[0m\n",
      "\n",
      "\u001b[1m> Finished chain.\u001b[0m\n",
      "{'input': 'i am looking for video games', 'chat_history': [HumanMessage(content='where can find the gaming accessoeires'), AIMessage(content=\"Z Games, located in China Court, is a gaming specialist store that offers a wide range of gaming accessories. They aim to cater to gamers' needs in the Middle East and provide an extensive library of video games, accessories by leading brands, gaming consoles, and much more. You can reach them at 048348455.\"), HumanMessage(content='similar shops to that'), AIMessage(content=\"Similar shops to Brands for Less in Andalusia Court include MY VAPERY, SMOKERS CENTRE, and THOMSUN PURE MUSIC. Similar shops to Athlete's Co in Egypt Court include SPORTS MARKET, COLUMBIA, and NIKE. Similar shops to The Custom Shop in India Court include KOTON, ARROW, and CELIO. Similar shops to Just Accessories in Egypt Court include ALDO ACCESSORIES and CLAIRE'S.\"), HumanMessage(content='i am looking for video games'), AIMessage(content=\"ZGames, located in China Court, is a gaming specialist store that offers an extensive library of video games, accessories, gaming consoles, and more. They aim to cater to gamers' needs in the Middle East and provide competitive prices. They are open at 10:00 AM and can be reached at 048348455.\")], 'output': \"ZGames, located in China Court, is a gaming specialist store that offers an extensive library of video games, accessories, gaming consoles, and more. They aim to cater to gamers' needs in the Middle East and provide competitive prices. They are open at 10:00 AM and can be reached at 048348455.\"}\n"
     ]
    }
   ],
   "source": [
    "zz =  conversational_agent(\"i am looking for video games\")\n",
    "print(zz)"
   ]
  },
  {
   "cell_type": "code",
   "execution_count": 28,
   "id": "0237c31d",
   "metadata": {},
   "outputs": [
    {
     "name": "stdout",
     "output_type": "stream",
     "text": [
      "\n",
      "\n",
      "\u001b[1m> Entering new AgentExecutor chain...\u001b[0m\n",
      "\u001b[32;1m\u001b[1;3m{\n",
      "    \"action\": \"Ibne Batuta Mall\",\n",
      "    \"action_input\": \"pizza shop\"\n",
      "}\u001b[0m\n",
      "Observation: \u001b[36;1m\u001b[1;3mI'm sorry, but there is no information provided about a pizza shop in the given context.\u001b[0m\n",
      "Thought:\u001b[32;1m\u001b[1;3m{\n",
      "    \"action\": \"Final Answer\",\n",
      "    \"action_input\": \"I'm sorry, but there is no information provided about a pizza shop in the given context.\"\n",
      "}\u001b[0m\n",
      "\n",
      "\u001b[1m> Finished chain.\u001b[0m\n",
      "{'input': 'looking for piiza shop in the mall', 'chat_history': [HumanMessage(content='where can find the gaming accessoeires'), AIMessage(content=\"Z Games, located in China Court, is a gaming specialist store that offers a wide range of gaming accessories. They aim to cater to gamers' needs in the Middle East and provide an extensive library of video games, accessories by leading brands, gaming consoles, and much more. You can contact them at 048348455.\"), HumanMessage(content='i want to eat pizza and then i wil buy gaming consoles'), AIMessage(content=\"I'm sorry, but I don't have any information about pizza or gaming consoles in the given context.\"), HumanMessage(content='looking for piiza shop in the mall'), AIMessage(content=\"I'm sorry, but there is no information provided about a pizza shop in the given context.\")], 'output': \"I'm sorry, but there is no information provided about a pizza shop in the given context.\"}\n"
     ]
    }
   ],
   "source": [
    "zz =  conversational_agent(\"looking for piiza shop in the mall\")\n",
    "print(zz)"
   ]
  },
  {
   "cell_type": "code",
   "execution_count": null,
   "id": "a67aeaf3",
   "metadata": {},
   "outputs": [],
   "source": []
  }
 ],
 "metadata": {
  "kernelspec": {
   "display_name": "Python 3 (ipykernel)",
   "language": "python",
   "name": "python3"
  },
  "language_info": {
   "codemirror_mode": {
    "name": "ipython",
    "version": 3
   },
   "file_extension": ".py",
   "mimetype": "text/x-python",
   "name": "python",
   "nbconvert_exporter": "python",
   "pygments_lexer": "ipython3",
   "version": "3.11.5"
  }
 },
 "nbformat": 4,
 "nbformat_minor": 5
}
